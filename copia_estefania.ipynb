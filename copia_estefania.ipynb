{
  "cells": [
    {
      "cell_type": "markdown",
      "metadata": {
        "id": "view-in-github",
        "colab_type": "text"
      },
      "source": [
        "<a href=\"https://colab.research.google.com/github/LeCache/LeCache/blob/main/copia_estefania.ipynb\" target=\"_parent\"><img src=\"https://colab.research.google.com/assets/colab-badge.svg\" alt=\"Open In Colab\"/></a>"
      ]
    },
    {
      "cell_type": "markdown",
      "id": "94df1e3b",
      "metadata": {
        "id": "94df1e3b"
      },
      "source": [
        "<table align=\"left\">\n",
        "  <td>\n",
        "    <a href=\"https://colab.research.google.com/github/marco-canas/cielo/blob/main/revision_bibloografica/c_2_geron/5_estefania.ipynb\" target=\"_parent\"><img src=\"https://colab.research.google.com/assets/colab-badge.svg\" alt=\"Open In Colab\"/></a>\n",
        "  </td>\n",
        "</table>"
      ]
    },
    {
      "cell_type": "markdown",
      "id": "e73ee2f4",
      "metadata": {
        "id": "e73ee2f4"
      },
      "source": [
        "## [Video de apoyo a la lectura interactiva y experimental de este cuaderno]()  \n",
        "\n",
        "Recuerde que la segunda parte de su exposición debe ser la práctica de implementación o de codificación de los conceptos y metodologías presentadas en la teoría leída. "
      ]
    },
    {
      "cell_type": "markdown",
      "id": "50aa5f1d",
      "metadata": {
        "id": "50aa5f1d"
      },
      "source": [
        "# Chapter 2 Geron\n",
        "\n",
        "Páginas 117 a 130. "
      ]
    },
    {
      "cell_type": "markdown",
      "id": "76561ba4",
      "metadata": {
        "id": "76561ba4"
      },
      "source": [
        "### Temas a presentar\n",
        "\n",
        "* Fine-Tune your model (Afinamiento de modelos con grilla de hiperparámetros)  \n",
        "  * grid search (cuagrícula de búsqueda)  \n",
        "  * Randomized search (Búsqueda aleatoria)  \n",
        "  * Ensemble methods \n",
        "  * Analyze the best model and their errors "
      ]
    },
    {
      "cell_type": "markdown",
      "source": [
        "## Download the Data"
      ],
      "metadata": {
        "id": "2drl_Q7-NvWl"
      },
      "id": "2drl_Q7-NvWl"
    },
    {
      "cell_type": "code",
      "source": [
        "from pathlib import Path\n",
        "import pandas as pd\n",
        "import tarfile\n",
        "import urllib.request\n",
        "\n",
        "def carga_datos():\n",
        "    tarball_path = Path(\"datasets/housing.tgz\")\n",
        "    if not tarball_path.is_file():\n",
        "        Path(\"datasets\").mkdir(parents=True, exist_ok=True)\n",
        "        url = \"https://github.com/ageron/data/raw/main/housing.tgz\"\n",
        "        urllib.request.urlretrieve(url, tarball_path)\n",
        "        with tarfile.open(tarball_path) as housing_tarball:\n",
        "            housing_tarball.extractall(path=\"datasets\")\n",
        "    return pd.read_csv(Path(\"datasets/housing/housing.csv\"))\n",
        "\n",
        "datos = carga_datos()"
      ],
      "metadata": {
        "id": "l9-Nod8ZN5Wv"
      },
      "id": "l9-Nod8ZN5Wv",
      "execution_count": 134,
      "outputs": []
    },
    {
      "cell_type": "markdown",
      "source": [
        "- El módulo **pathlib** es un componente importante de la biblioteca estándar de Python que nos permite manipular rutas de sistemas de archivos de forma rápida en cualquier sistema operativo- con módulo *path*.\n",
        "- El módulo **tarfile** proporciona acceso de lectura y escritura a archivos de tar.\n",
        "- El módulo **urllib.request** proporciona una interfaz de programación para usar recursos de Internet identificados por URLs.\n"
      ],
      "metadata": {
        "id": "XLHV5dj8OikN"
      },
      "id": "XLHV5dj8OikN"
    },
    {
      "cell_type": "markdown",
      "source": [
        "## Look Data Structure"
      ],
      "metadata": {
        "id": "xKLh_MazZbME"
      },
      "id": "xKLh_MazZbME"
    },
    {
      "cell_type": "code",
      "source": [
        "datos.head()"
      ],
      "metadata": {
        "id": "-ZnmEZ7MZhKY",
        "outputId": "3476c574-f571-48a6-b817-c9e2bae3601d",
        "colab": {
          "base_uri": "https://localhost:8080/",
          "height": 206
        }
      },
      "id": "-ZnmEZ7MZhKY",
      "execution_count": 135,
      "outputs": [
        {
          "output_type": "execute_result",
          "data": {
            "text/plain": [
              "   longitude  latitude  housing_median_age  total_rooms  total_bedrooms  \\\n",
              "0    -122.23     37.88                41.0        880.0           129.0   \n",
              "1    -122.22     37.86                21.0       7099.0          1106.0   \n",
              "2    -122.24     37.85                52.0       1467.0           190.0   \n",
              "3    -122.25     37.85                52.0       1274.0           235.0   \n",
              "4    -122.25     37.85                52.0       1627.0           280.0   \n",
              "\n",
              "   population  households  median_income  median_house_value ocean_proximity  \n",
              "0       322.0       126.0         8.3252            452600.0        NEAR BAY  \n",
              "1      2401.0      1138.0         8.3014            358500.0        NEAR BAY  \n",
              "2       496.0       177.0         7.2574            352100.0        NEAR BAY  \n",
              "3       558.0       219.0         5.6431            341300.0        NEAR BAY  \n",
              "4       565.0       259.0         3.8462            342200.0        NEAR BAY  "
            ],
            "text/html": [
              "\n",
              "  <div id=\"df-11a9be33-203e-41ba-8cc5-63f2c3ee02fc\">\n",
              "    <div class=\"colab-df-container\">\n",
              "      <div>\n",
              "<style scoped>\n",
              "    .dataframe tbody tr th:only-of-type {\n",
              "        vertical-align: middle;\n",
              "    }\n",
              "\n",
              "    .dataframe tbody tr th {\n",
              "        vertical-align: top;\n",
              "    }\n",
              "\n",
              "    .dataframe thead th {\n",
              "        text-align: right;\n",
              "    }\n",
              "</style>\n",
              "<table border=\"1\" class=\"dataframe\">\n",
              "  <thead>\n",
              "    <tr style=\"text-align: right;\">\n",
              "      <th></th>\n",
              "      <th>longitude</th>\n",
              "      <th>latitude</th>\n",
              "      <th>housing_median_age</th>\n",
              "      <th>total_rooms</th>\n",
              "      <th>total_bedrooms</th>\n",
              "      <th>population</th>\n",
              "      <th>households</th>\n",
              "      <th>median_income</th>\n",
              "      <th>median_house_value</th>\n",
              "      <th>ocean_proximity</th>\n",
              "    </tr>\n",
              "  </thead>\n",
              "  <tbody>\n",
              "    <tr>\n",
              "      <th>0</th>\n",
              "      <td>-122.23</td>\n",
              "      <td>37.88</td>\n",
              "      <td>41.0</td>\n",
              "      <td>880.0</td>\n",
              "      <td>129.0</td>\n",
              "      <td>322.0</td>\n",
              "      <td>126.0</td>\n",
              "      <td>8.3252</td>\n",
              "      <td>452600.0</td>\n",
              "      <td>NEAR BAY</td>\n",
              "    </tr>\n",
              "    <tr>\n",
              "      <th>1</th>\n",
              "      <td>-122.22</td>\n",
              "      <td>37.86</td>\n",
              "      <td>21.0</td>\n",
              "      <td>7099.0</td>\n",
              "      <td>1106.0</td>\n",
              "      <td>2401.0</td>\n",
              "      <td>1138.0</td>\n",
              "      <td>8.3014</td>\n",
              "      <td>358500.0</td>\n",
              "      <td>NEAR BAY</td>\n",
              "    </tr>\n",
              "    <tr>\n",
              "      <th>2</th>\n",
              "      <td>-122.24</td>\n",
              "      <td>37.85</td>\n",
              "      <td>52.0</td>\n",
              "      <td>1467.0</td>\n",
              "      <td>190.0</td>\n",
              "      <td>496.0</td>\n",
              "      <td>177.0</td>\n",
              "      <td>7.2574</td>\n",
              "      <td>352100.0</td>\n",
              "      <td>NEAR BAY</td>\n",
              "    </tr>\n",
              "    <tr>\n",
              "      <th>3</th>\n",
              "      <td>-122.25</td>\n",
              "      <td>37.85</td>\n",
              "      <td>52.0</td>\n",
              "      <td>1274.0</td>\n",
              "      <td>235.0</td>\n",
              "      <td>558.0</td>\n",
              "      <td>219.0</td>\n",
              "      <td>5.6431</td>\n",
              "      <td>341300.0</td>\n",
              "      <td>NEAR BAY</td>\n",
              "    </tr>\n",
              "    <tr>\n",
              "      <th>4</th>\n",
              "      <td>-122.25</td>\n",
              "      <td>37.85</td>\n",
              "      <td>52.0</td>\n",
              "      <td>1627.0</td>\n",
              "      <td>280.0</td>\n",
              "      <td>565.0</td>\n",
              "      <td>259.0</td>\n",
              "      <td>3.8462</td>\n",
              "      <td>342200.0</td>\n",
              "      <td>NEAR BAY</td>\n",
              "    </tr>\n",
              "  </tbody>\n",
              "</table>\n",
              "</div>\n",
              "      <button class=\"colab-df-convert\" onclick=\"convertToInteractive('df-11a9be33-203e-41ba-8cc5-63f2c3ee02fc')\"\n",
              "              title=\"Convert this dataframe to an interactive table.\"\n",
              "              style=\"display:none;\">\n",
              "        \n",
              "  <svg xmlns=\"http://www.w3.org/2000/svg\" height=\"24px\"viewBox=\"0 0 24 24\"\n",
              "       width=\"24px\">\n",
              "    <path d=\"M0 0h24v24H0V0z\" fill=\"none\"/>\n",
              "    <path d=\"M18.56 5.44l.94 2.06.94-2.06 2.06-.94-2.06-.94-.94-2.06-.94 2.06-2.06.94zm-11 1L8.5 8.5l.94-2.06 2.06-.94-2.06-.94L8.5 2.5l-.94 2.06-2.06.94zm10 10l.94 2.06.94-2.06 2.06-.94-2.06-.94-.94-2.06-.94 2.06-2.06.94z\"/><path d=\"M17.41 7.96l-1.37-1.37c-.4-.4-.92-.59-1.43-.59-.52 0-1.04.2-1.43.59L10.3 9.45l-7.72 7.72c-.78.78-.78 2.05 0 2.83L4 21.41c.39.39.9.59 1.41.59.51 0 1.02-.2 1.41-.59l7.78-7.78 2.81-2.81c.8-.78.8-2.07 0-2.86zM5.41 20L4 18.59l7.72-7.72 1.47 1.35L5.41 20z\"/>\n",
              "  </svg>\n",
              "      </button>\n",
              "      \n",
              "  <style>\n",
              "    .colab-df-container {\n",
              "      display:flex;\n",
              "      flex-wrap:wrap;\n",
              "      gap: 12px;\n",
              "    }\n",
              "\n",
              "    .colab-df-convert {\n",
              "      background-color: #E8F0FE;\n",
              "      border: none;\n",
              "      border-radius: 50%;\n",
              "      cursor: pointer;\n",
              "      display: none;\n",
              "      fill: #1967D2;\n",
              "      height: 32px;\n",
              "      padding: 0 0 0 0;\n",
              "      width: 32px;\n",
              "    }\n",
              "\n",
              "    .colab-df-convert:hover {\n",
              "      background-color: #E2EBFA;\n",
              "      box-shadow: 0px 1px 2px rgba(60, 64, 67, 0.3), 0px 1px 3px 1px rgba(60, 64, 67, 0.15);\n",
              "      fill: #174EA6;\n",
              "    }\n",
              "\n",
              "    [theme=dark] .colab-df-convert {\n",
              "      background-color: #3B4455;\n",
              "      fill: #D2E3FC;\n",
              "    }\n",
              "\n",
              "    [theme=dark] .colab-df-convert:hover {\n",
              "      background-color: #434B5C;\n",
              "      box-shadow: 0px 1px 3px 1px rgba(0, 0, 0, 0.15);\n",
              "      filter: drop-shadow(0px 1px 2px rgba(0, 0, 0, 0.3));\n",
              "      fill: #FFFFFF;\n",
              "    }\n",
              "  </style>\n",
              "\n",
              "      <script>\n",
              "        const buttonEl =\n",
              "          document.querySelector('#df-11a9be33-203e-41ba-8cc5-63f2c3ee02fc button.colab-df-convert');\n",
              "        buttonEl.style.display =\n",
              "          google.colab.kernel.accessAllowed ? 'block' : 'none';\n",
              "\n",
              "        async function convertToInteractive(key) {\n",
              "          const element = document.querySelector('#df-11a9be33-203e-41ba-8cc5-63f2c3ee02fc');\n",
              "          const dataTable =\n",
              "            await google.colab.kernel.invokeFunction('convertToInteractive',\n",
              "                                                     [key], {});\n",
              "          if (!dataTable) return;\n",
              "\n",
              "          const docLinkHtml = 'Like what you see? Visit the ' +\n",
              "            '<a target=\"_blank\" href=https://colab.research.google.com/notebooks/data_table.ipynb>data table notebook</a>'\n",
              "            + ' to learn more about interactive tables.';\n",
              "          element.innerHTML = '';\n",
              "          dataTable['output_type'] = 'display_data';\n",
              "          await google.colab.output.renderOutput(dataTable, element);\n",
              "          const docLink = document.createElement('div');\n",
              "          docLink.innerHTML = docLinkHtml;\n",
              "          element.appendChild(docLink);\n",
              "        }\n",
              "      </script>\n",
              "    </div>\n",
              "  </div>\n",
              "  "
            ]
          },
          "metadata": {},
          "execution_count": 135
        }
      ]
    },
    {
      "cell_type": "markdown",
      "source": [
        "En el dataframe observamos 10 atributos que correspondern a la informaación de los distritos."
      ],
      "metadata": {
        "id": "7bYKtoCMaIJG"
      },
      "id": "7bYKtoCMaIJG"
    },
    {
      "cell_type": "code",
      "source": [
        "datos.columns\n",
        "datos.columns = ['longitud', 'latitud', 'edad_promedio_casa', 'total_espacios', 'total_habitaciones','poblacion','hogares','ingreso_promedio', 'valor_promedio_casa','cercania_oceano']\n",
        "datos.columns"
      ],
      "metadata": {
        "id": "PO9SE9EJbg_y",
        "outputId": "cf845af5-4596-498d-ae28-e75ad435309e",
        "colab": {
          "base_uri": "https://localhost:8080/"
        }
      },
      "id": "PO9SE9EJbg_y",
      "execution_count": 136,
      "outputs": [
        {
          "output_type": "execute_result",
          "data": {
            "text/plain": [
              "Index(['longitud', 'latitud', 'edad_promedio_casa', 'total_espacios',\n",
              "       'total_habitaciones', 'poblacion', 'hogares', 'ingreso_promedio',\n",
              "       'valor_promedio_casa', 'cercania_oceano'],\n",
              "      dtype='object')"
            ]
          },
          "metadata": {},
          "execution_count": 136
        }
      ]
    },
    {
      "cell_type": "code",
      "source": [
        "datos.info()"
      ],
      "metadata": {
        "id": "JRxWKMr9aXhJ",
        "outputId": "5c62860e-b51b-4bed-a0d2-0745d9aa01ed",
        "colab": {
          "base_uri": "https://localhost:8080/"
        }
      },
      "id": "JRxWKMr9aXhJ",
      "execution_count": 137,
      "outputs": [
        {
          "output_type": "stream",
          "name": "stdout",
          "text": [
            "<class 'pandas.core.frame.DataFrame'>\n",
            "RangeIndex: 20640 entries, 0 to 20639\n",
            "Data columns (total 10 columns):\n",
            " #   Column               Non-Null Count  Dtype  \n",
            "---  ------               --------------  -----  \n",
            " 0   longitud             20640 non-null  float64\n",
            " 1   latitud              20640 non-null  float64\n",
            " 2   edad_promedio_casa   20640 non-null  float64\n",
            " 3   total_espacios       20640 non-null  float64\n",
            " 4   total_habitaciones   20433 non-null  float64\n",
            " 5   poblacion            20640 non-null  float64\n",
            " 6   hogares              20640 non-null  float64\n",
            " 7   ingreso_promedio     20640 non-null  float64\n",
            " 8   valor_promedio_casa  20640 non-null  float64\n",
            " 9   cercania_oceano      20640 non-null  object \n",
            "dtypes: float64(9), object(1)\n",
            "memory usage: 1.6+ MB\n"
          ]
        }
      ]
    },
    {
      "cell_type": "markdown",
      "source": [
        "- cada uno de los atributos posee 20 640 datos a excepción del total_habitaciones. \n",
        "- Nueve de los atributos poseen datos tipo numércios décimales o float y uno tipo object o de texto, miremos."
      ],
      "metadata": {
        "id": "wdfQbcZkagGu"
      },
      "id": "wdfQbcZkagGu"
    },
    {
      "cell_type": "code",
      "source": [
        "datos[\"cercania_oceano\"].value_counts()"
      ],
      "metadata": {
        "id": "WNrKKCjHdbO3",
        "outputId": "2e96d27e-fb77-467a-a7a7-5ae369face8c",
        "colab": {
          "base_uri": "https://localhost:8080/"
        }
      },
      "id": "WNrKKCjHdbO3",
      "execution_count": 138,
      "outputs": [
        {
          "output_type": "execute_result",
          "data": {
            "text/plain": [
              "<1H OCEAN     9136\n",
              "INLAND        6551\n",
              "NEAR OCEAN    2658\n",
              "NEAR BAY      2290\n",
              "ISLAND           5\n",
              "Name: cercania_oceano, dtype: int64"
            ]
          },
          "metadata": {},
          "execution_count": 138
        }
      ]
    },
    {
      "cell_type": "markdown",
      "source": [
        "Muestra las 5 categorias de las que se conforma la variable cercania_oceano"
      ],
      "metadata": {
        "id": "9UPCW5DiuaIE"
      },
      "id": "9UPCW5DiuaIE"
    },
    {
      "cell_type": "code",
      "source": [
        "datos.describe()"
      ],
      "metadata": {
        "id": "5q53GTteu4pG",
        "outputId": "e64ce522-80ac-4cde-ea15-74e5f53d66fe",
        "colab": {
          "base_uri": "https://localhost:8080/",
          "height": 300
        }
      },
      "id": "5q53GTteu4pG",
      "execution_count": 139,
      "outputs": [
        {
          "output_type": "execute_result",
          "data": {
            "text/plain": [
              "           longitud       latitud  edad_promedio_casa  total_espacios  \\\n",
              "count  20640.000000  20640.000000        20640.000000    20640.000000   \n",
              "mean    -119.569704     35.631861           28.639486     2635.763081   \n",
              "std        2.003532      2.135952           12.585558     2181.615252   \n",
              "min     -124.350000     32.540000            1.000000        2.000000   \n",
              "25%     -121.800000     33.930000           18.000000     1447.750000   \n",
              "50%     -118.490000     34.260000           29.000000     2127.000000   \n",
              "75%     -118.010000     37.710000           37.000000     3148.000000   \n",
              "max     -114.310000     41.950000           52.000000    39320.000000   \n",
              "\n",
              "       total_habitaciones     poblacion       hogares  ingreso_promedio  \\\n",
              "count        20433.000000  20640.000000  20640.000000      20640.000000   \n",
              "mean           537.870553   1425.476744    499.539680          3.870671   \n",
              "std            421.385070   1132.462122    382.329753          1.899822   \n",
              "min              1.000000      3.000000      1.000000          0.499900   \n",
              "25%            296.000000    787.000000    280.000000          2.563400   \n",
              "50%            435.000000   1166.000000    409.000000          3.534800   \n",
              "75%            647.000000   1725.000000    605.000000          4.743250   \n",
              "max           6445.000000  35682.000000   6082.000000         15.000100   \n",
              "\n",
              "       valor_promedio_casa  \n",
              "count         20640.000000  \n",
              "mean         206855.816909  \n",
              "std          115395.615874  \n",
              "min           14999.000000  \n",
              "25%          119600.000000  \n",
              "50%          179700.000000  \n",
              "75%          264725.000000  \n",
              "max          500001.000000  "
            ],
            "text/html": [
              "\n",
              "  <div id=\"df-3950818a-0926-4617-8aff-0bac85ceb6a9\">\n",
              "    <div class=\"colab-df-container\">\n",
              "      <div>\n",
              "<style scoped>\n",
              "    .dataframe tbody tr th:only-of-type {\n",
              "        vertical-align: middle;\n",
              "    }\n",
              "\n",
              "    .dataframe tbody tr th {\n",
              "        vertical-align: top;\n",
              "    }\n",
              "\n",
              "    .dataframe thead th {\n",
              "        text-align: right;\n",
              "    }\n",
              "</style>\n",
              "<table border=\"1\" class=\"dataframe\">\n",
              "  <thead>\n",
              "    <tr style=\"text-align: right;\">\n",
              "      <th></th>\n",
              "      <th>longitud</th>\n",
              "      <th>latitud</th>\n",
              "      <th>edad_promedio_casa</th>\n",
              "      <th>total_espacios</th>\n",
              "      <th>total_habitaciones</th>\n",
              "      <th>poblacion</th>\n",
              "      <th>hogares</th>\n",
              "      <th>ingreso_promedio</th>\n",
              "      <th>valor_promedio_casa</th>\n",
              "    </tr>\n",
              "  </thead>\n",
              "  <tbody>\n",
              "    <tr>\n",
              "      <th>count</th>\n",
              "      <td>20640.000000</td>\n",
              "      <td>20640.000000</td>\n",
              "      <td>20640.000000</td>\n",
              "      <td>20640.000000</td>\n",
              "      <td>20433.000000</td>\n",
              "      <td>20640.000000</td>\n",
              "      <td>20640.000000</td>\n",
              "      <td>20640.000000</td>\n",
              "      <td>20640.000000</td>\n",
              "    </tr>\n",
              "    <tr>\n",
              "      <th>mean</th>\n",
              "      <td>-119.569704</td>\n",
              "      <td>35.631861</td>\n",
              "      <td>28.639486</td>\n",
              "      <td>2635.763081</td>\n",
              "      <td>537.870553</td>\n",
              "      <td>1425.476744</td>\n",
              "      <td>499.539680</td>\n",
              "      <td>3.870671</td>\n",
              "      <td>206855.816909</td>\n",
              "    </tr>\n",
              "    <tr>\n",
              "      <th>std</th>\n",
              "      <td>2.003532</td>\n",
              "      <td>2.135952</td>\n",
              "      <td>12.585558</td>\n",
              "      <td>2181.615252</td>\n",
              "      <td>421.385070</td>\n",
              "      <td>1132.462122</td>\n",
              "      <td>382.329753</td>\n",
              "      <td>1.899822</td>\n",
              "      <td>115395.615874</td>\n",
              "    </tr>\n",
              "    <tr>\n",
              "      <th>min</th>\n",
              "      <td>-124.350000</td>\n",
              "      <td>32.540000</td>\n",
              "      <td>1.000000</td>\n",
              "      <td>2.000000</td>\n",
              "      <td>1.000000</td>\n",
              "      <td>3.000000</td>\n",
              "      <td>1.000000</td>\n",
              "      <td>0.499900</td>\n",
              "      <td>14999.000000</td>\n",
              "    </tr>\n",
              "    <tr>\n",
              "      <th>25%</th>\n",
              "      <td>-121.800000</td>\n",
              "      <td>33.930000</td>\n",
              "      <td>18.000000</td>\n",
              "      <td>1447.750000</td>\n",
              "      <td>296.000000</td>\n",
              "      <td>787.000000</td>\n",
              "      <td>280.000000</td>\n",
              "      <td>2.563400</td>\n",
              "      <td>119600.000000</td>\n",
              "    </tr>\n",
              "    <tr>\n",
              "      <th>50%</th>\n",
              "      <td>-118.490000</td>\n",
              "      <td>34.260000</td>\n",
              "      <td>29.000000</td>\n",
              "      <td>2127.000000</td>\n",
              "      <td>435.000000</td>\n",
              "      <td>1166.000000</td>\n",
              "      <td>409.000000</td>\n",
              "      <td>3.534800</td>\n",
              "      <td>179700.000000</td>\n",
              "    </tr>\n",
              "    <tr>\n",
              "      <th>75%</th>\n",
              "      <td>-118.010000</td>\n",
              "      <td>37.710000</td>\n",
              "      <td>37.000000</td>\n",
              "      <td>3148.000000</td>\n",
              "      <td>647.000000</td>\n",
              "      <td>1725.000000</td>\n",
              "      <td>605.000000</td>\n",
              "      <td>4.743250</td>\n",
              "      <td>264725.000000</td>\n",
              "    </tr>\n",
              "    <tr>\n",
              "      <th>max</th>\n",
              "      <td>-114.310000</td>\n",
              "      <td>41.950000</td>\n",
              "      <td>52.000000</td>\n",
              "      <td>39320.000000</td>\n",
              "      <td>6445.000000</td>\n",
              "      <td>35682.000000</td>\n",
              "      <td>6082.000000</td>\n",
              "      <td>15.000100</td>\n",
              "      <td>500001.000000</td>\n",
              "    </tr>\n",
              "  </tbody>\n",
              "</table>\n",
              "</div>\n",
              "      <button class=\"colab-df-convert\" onclick=\"convertToInteractive('df-3950818a-0926-4617-8aff-0bac85ceb6a9')\"\n",
              "              title=\"Convert this dataframe to an interactive table.\"\n",
              "              style=\"display:none;\">\n",
              "        \n",
              "  <svg xmlns=\"http://www.w3.org/2000/svg\" height=\"24px\"viewBox=\"0 0 24 24\"\n",
              "       width=\"24px\">\n",
              "    <path d=\"M0 0h24v24H0V0z\" fill=\"none\"/>\n",
              "    <path d=\"M18.56 5.44l.94 2.06.94-2.06 2.06-.94-2.06-.94-.94-2.06-.94 2.06-2.06.94zm-11 1L8.5 8.5l.94-2.06 2.06-.94-2.06-.94L8.5 2.5l-.94 2.06-2.06.94zm10 10l.94 2.06.94-2.06 2.06-.94-2.06-.94-.94-2.06-.94 2.06-2.06.94z\"/><path d=\"M17.41 7.96l-1.37-1.37c-.4-.4-.92-.59-1.43-.59-.52 0-1.04.2-1.43.59L10.3 9.45l-7.72 7.72c-.78.78-.78 2.05 0 2.83L4 21.41c.39.39.9.59 1.41.59.51 0 1.02-.2 1.41-.59l7.78-7.78 2.81-2.81c.8-.78.8-2.07 0-2.86zM5.41 20L4 18.59l7.72-7.72 1.47 1.35L5.41 20z\"/>\n",
              "  </svg>\n",
              "      </button>\n",
              "      \n",
              "  <style>\n",
              "    .colab-df-container {\n",
              "      display:flex;\n",
              "      flex-wrap:wrap;\n",
              "      gap: 12px;\n",
              "    }\n",
              "\n",
              "    .colab-df-convert {\n",
              "      background-color: #E8F0FE;\n",
              "      border: none;\n",
              "      border-radius: 50%;\n",
              "      cursor: pointer;\n",
              "      display: none;\n",
              "      fill: #1967D2;\n",
              "      height: 32px;\n",
              "      padding: 0 0 0 0;\n",
              "      width: 32px;\n",
              "    }\n",
              "\n",
              "    .colab-df-convert:hover {\n",
              "      background-color: #E2EBFA;\n",
              "      box-shadow: 0px 1px 2px rgba(60, 64, 67, 0.3), 0px 1px 3px 1px rgba(60, 64, 67, 0.15);\n",
              "      fill: #174EA6;\n",
              "    }\n",
              "\n",
              "    [theme=dark] .colab-df-convert {\n",
              "      background-color: #3B4455;\n",
              "      fill: #D2E3FC;\n",
              "    }\n",
              "\n",
              "    [theme=dark] .colab-df-convert:hover {\n",
              "      background-color: #434B5C;\n",
              "      box-shadow: 0px 1px 3px 1px rgba(0, 0, 0, 0.15);\n",
              "      filter: drop-shadow(0px 1px 2px rgba(0, 0, 0, 0.3));\n",
              "      fill: #FFFFFF;\n",
              "    }\n",
              "  </style>\n",
              "\n",
              "      <script>\n",
              "        const buttonEl =\n",
              "          document.querySelector('#df-3950818a-0926-4617-8aff-0bac85ceb6a9 button.colab-df-convert');\n",
              "        buttonEl.style.display =\n",
              "          google.colab.kernel.accessAllowed ? 'block' : 'none';\n",
              "\n",
              "        async function convertToInteractive(key) {\n",
              "          const element = document.querySelector('#df-3950818a-0926-4617-8aff-0bac85ceb6a9');\n",
              "          const dataTable =\n",
              "            await google.colab.kernel.invokeFunction('convertToInteractive',\n",
              "                                                     [key], {});\n",
              "          if (!dataTable) return;\n",
              "\n",
              "          const docLinkHtml = 'Like what you see? Visit the ' +\n",
              "            '<a target=\"_blank\" href=https://colab.research.google.com/notebooks/data_table.ipynb>data table notebook</a>'\n",
              "            + ' to learn more about interactive tables.';\n",
              "          element.innerHTML = '';\n",
              "          dataTable['output_type'] = 'display_data';\n",
              "          await google.colab.output.renderOutput(dataTable, element);\n",
              "          const docLink = document.createElement('div');\n",
              "          docLink.innerHTML = docLinkHtml;\n",
              "          element.appendChild(docLink);\n",
              "        }\n",
              "      </script>\n",
              "    </div>\n",
              "  </div>\n",
              "  "
            ]
          },
          "metadata": {},
          "execution_count": 139
        }
      ]
    },
    {
      "cell_type": "markdown",
      "source": [
        "Observamos:\n",
        "- la cantidad de datos en cada variable 20640 a excepción de total_habitaciones con 20433.\n",
        "- la media, como el valor promedio de las casas es de 206855.81.\n",
        "- la desviación estandard que muestra la dispersión de los datos.\n",
        "- los respectivos cuartiles que agrupa a los datos en cuartos porcentuales y les asigna una cantida tope. .\n"
      ],
      "metadata": {
        "id": "tOlzo6LLvW3Y"
      },
      "id": "tOlzo6LLvW3Y"
    },
    {
      "cell_type": "code",
      "source": [
        "import matplotlib.pyplot as plt\n",
        "plt.rc('axes', labelsize=14, titlesize=14)\n",
        "plt.rc('xtick', labelsize=10)\n",
        "datos.hist(bins=50, figsize=(12,8))\n",
        "plt.show"
      ],
      "metadata": {
        "id": "l8cwZOKtw3UO",
        "outputId": "5560b27e-462d-42e1-dea8-67671cf477da",
        "colab": {
          "base_uri": "https://localhost:8080/",
          "height": 517
        }
      },
      "id": "l8cwZOKtw3UO",
      "execution_count": 140,
      "outputs": [
        {
          "output_type": "execute_result",
          "data": {
            "text/plain": [
              "<function matplotlib.pyplot.show(*args, **kw)>"
            ]
          },
          "metadata": {},
          "execution_count": 140
        },
        {
          "output_type": "display_data",
          "data": {
            "text/plain": [
              "<Figure size 864x576 with 9 Axes>"
            ],
            "image/png": "[encoded data removed]"
          },
          "metadata": {
            "needs_background": "light"
          }
        }
      ]
    },
    {
      "cell_type": "markdown",
      "source": [
        "- El valor del ingreso promedio se debe multiplicar por $10.000 "
      ],
      "metadata": {
        "id": "qa7LCuz-y8-b"
      },
      "id": "qa7LCuz-y8-b"
    },
    {
      "cell_type": "markdown",
      "source": [
        "## Create a Test Set"
      ],
      "metadata": {
        "id": "BsM7J0dH1Z-o"
      },
      "id": "BsM7J0dH1Z-o"
    },
    {
      "cell_type": "code",
      "source": [
        "import numpy as np\n",
        "\n",
        "def baraja_datos(data, test_ratio):\n",
        "  baraja_indices = np.random.permutation(len(data))\n",
        "  tamano_test_set = int(len(data)*test_ratio)\n",
        "  test_indices = baraja_indices[:tamano_test_set]\n",
        "  train_indices = baraja_indices[tamano_test_set:]\n",
        "  return data.iloc[train_indices], data.iloc[test_indices]"
      ],
      "metadata": {
        "id": "sJvngQHA1Yfa"
      },
      "id": "sJvngQHA1Yfa",
      "execution_count": 141,
      "outputs": []
    },
    {
      "cell_type": "code",
      "source": [
        "train_set, test_set = baraja_datos(datos, 0.2)\n",
        "len(train_set)"
      ],
      "metadata": {
        "id": "Aqe_ceIC3e3g",
        "outputId": "144a655b-7950-48c8-b774-c83bb5f693b6",
        "colab": {
          "base_uri": "https://localhost:8080/"
        }
      },
      "id": "Aqe_ceIC3e3g",
      "execution_count": 142,
      "outputs": [
        {
          "output_type": "execute_result",
          "data": {
            "text/plain": [
              "16512"
            ]
          },
          "metadata": {},
          "execution_count": 142
        }
      ]
    },
    {
      "cell_type": "markdown",
      "source": [
        "16512 son los datos (train_set) correspondientes a los datos con los que va a ser entrenado el modelo."
      ],
      "metadata": {
        "id": "8lRY-VdeyTzv"
      },
      "id": "8lRY-VdeyTzv"
    },
    {
      "cell_type": "code",
      "source": [
        "len(test_set)"
      ],
      "metadata": {
        "id": "7xmWpzQZ4CFz",
        "outputId": "ea228d41-f7a9-4554-851c-4dd49bdb4b57",
        "colab": {
          "base_uri": "https://localhost:8080/"
        }
      },
      "id": "7xmWpzQZ4CFz",
      "execution_count": 143,
      "outputs": [
        {
          "output_type": "execute_result",
          "data": {
            "text/plain": [
              "4128"
            ]
          },
          "metadata": {},
          "execution_count": 143
        }
      ]
    },
    {
      "cell_type": "markdown",
      "source": [
        "4128 son los datos (test_set) correspondientes a los datos con los que va a ser evaluado el modelo."
      ],
      "metadata": {
        "id": "fFBc87KQyi9o"
      },
      "id": "fFBc87KQyi9o"
    },
    {
      "cell_type": "code",
      "source": [
        "np.random.seed(42)"
      ],
      "metadata": {
        "id": "CitwaKSy4j31"
      },
      "id": "CitwaKSy4j31",
      "execution_count": 144,
      "outputs": []
    },
    {
      "cell_type": "markdown",
      "source": [
        "Semilla insertada para asegurar la paridad de datos en el ejercicio."
      ],
      "metadata": {
        "id": "fv9KWB_kyrn9"
      },
      "id": "fv9KWB_kyrn9"
    },
    {
      "cell_type": "code",
      "source": [
        "from zlib import crc32\n",
        "\n",
        "def test_set_con_id(identifer, test_ratio):\n",
        "  return crc32(np.int64(identifer)) < test_ratio * 2**32\n",
        "\n",
        "def data_dividida_con_id_hash(data, test_ratio, id_column):\n",
        "  ids = data[id_column]\n",
        "  in_test_set = ids.apply(lambda id_: test_set_con_id(id_, test_ratio))\n",
        "  return data.loc[~in_test_set], data.loc[in_test_set]"
      ],
      "metadata": {
        "id": "hDfX9RdQyJUC"
      },
      "id": "hDfX9RdQyJUC",
      "execution_count": 145,
      "outputs": []
    },
    {
      "cell_type": "code",
      "source": [
        "datos_con_id = datos.reset_index() # se adiciona una columna 'index' \n",
        "train_set, test_set = data_dividida_con_id_hash(datos_con_id, 0.2, \"index\")"
      ],
      "metadata": {
        "id": "JJ_USPEpAr7s"
      },
      "id": "JJ_USPEpAr7s",
      "execution_count": 146,
      "outputs": []
    },
    {
      "cell_type": "code",
      "source": [
        "datos_con_id[\"id\"] = datos[\"longitud\"]*1000 + datos[\"latitud\"]\n",
        "train_set, test_set = data_dividida_con_id_hash(datos_con_id, 0.2, \"id\")"
      ],
      "metadata": {
        "id": "Z7fheSrOB8Mf"
      },
      "id": "Z7fheSrOB8Mf",
      "execution_count": 147,
      "outputs": []
    },
    {
      "cell_type": "markdown",
      "source": [
        "Veamos si en el conjunto de datos para evaluar el modelo es representativo del total de datos, consultando si los datos \"nulos\" de la varable total_habitaciones representa el 1% del total (4128)."
      ],
      "metadata": {
        "id": "KqfEl6LzFYUX"
      },
      "id": "KqfEl6LzFYUX"
    },
    {
      "cell_type": "code",
      "source": [
        "from sklearn.model_selection import train_test_split\n",
        "train_set, test_set = train_test_split(datos, test_size =0.2, random_state = 42)"
      ],
      "metadata": {
        "id": "OYQ_zMlQDi2B"
      },
      "id": "OYQ_zMlQDi2B",
      "execution_count": 148,
      "outputs": []
    },
    {
      "cell_type": "code",
      "source": [
        "test_set[\"total_habitaciones\"].isnull().sum()"
      ],
      "metadata": {
        "id": "bOV-UJ23HMea",
        "outputId": "50fdb29e-d99c-4de4-901a-87594c7b59da",
        "colab": {
          "base_uri": "https://localhost:8080/"
        }
      },
      "id": "bOV-UJ23HMea",
      "execution_count": 149,
      "outputs": [
        {
          "output_type": "execute_result",
          "data": {
            "text/plain": [
              "44"
            ]
          },
          "metadata": {},
          "execution_count": 149
        }
      ]
    },
    {
      "cell_type": "markdown",
      "source": [
        "Efectivamente, 44 es, aproximadamente, el 1% del total de datos del conjunto de datos de evalución. La muestra parece ser representiva.\n"
      ],
      "metadata": {
        "id": "vFrJGsTLHUxQ"
      },
      "id": "vFrJGsTLHUxQ"
    },
    {
      "cell_type": "markdown",
      "source": [
        "Estratifiquemos los datos de evaluación o test_set cortando a la densidad representativa de la variable ingreso promedio asegurando una distribución binomial. "
      ],
      "metadata": {
        "id": "CNVUTJRuIzDC"
      },
      "id": "CNVUTJRuIzDC"
    },
    {
      "cell_type": "code",
      "source": [
        "datos[\"income_cat\"] = pd.cut(datos[\"ingreso_promedio\"],\n",
        "                             bins = [0., 1.5,3.0, 4.5, 6., np.inf],\n",
        "                             labels =[1,2,3,4,5]) # Cortamos la distribución para hacerla binomial hasta el rango 6."
      ],
      "metadata": {
        "id": "pYiY6HSvHt6P"
      },
      "id": "pYiY6HSvHt6P",
      "execution_count": 150,
      "outputs": []
    },
    {
      "cell_type": "code",
      "source": [
        "datos[\"income_cat\"].value_counts().sort_index().plot.bar(rot=0, grid=True)\n",
        "plt.xlabel(\"categoria ingreso\")\n",
        "plt.ylabel(\"numero de distritos\")\n",
        "plt.show()"
      ],
      "metadata": {
        "id": "9XYZpIzPJgJ4",
        "outputId": "eccf3a2b-3b79-4400-a7cb-55294aa7b97e",
        "colab": {
          "base_uri": "https://localhost:8080/",
          "height": 283
        }
      },
      "id": "9XYZpIzPJgJ4",
      "execution_count": 151,
      "outputs": [
        {
          "output_type": "display_data",
          "data": {
            "text/plain": [
              "<Figure size 432x288 with 1 Axes>"
            ],
            "image/png": "[encoded data removed]"
          },
          "metadata": {
            "needs_background": "light"
          }
        }
      ]
    },
    {
      "cell_type": "markdown",
      "source": [
        "Observamos 5 categorias de ingreso promedio (recuerde multiplicar x 10 000) relacionados al numero de distritos. Decenas de miles de dolares. Veamos qué porcentaje les es asignado según el trato a los datos: datos, test_set y datos_estratificados."
      ],
      "metadata": {
        "id": "qorbODw5Lfab"
      },
      "id": "qorbODw5Lfab"
    },
    {
      "cell_type": "code",
      "source": [
        "from sklearn.model_selection import StratifiedShuffleSplit\n",
        "\n",
        "splitter = StratifiedShuffleSplit(n_splits=10, test_size=0.2, random_state=42)\n",
        "strat_splits = []\n",
        "for train_index, test_index in splitter.split(datos, datos[\"income_cat\"]):\n",
        "    strat_train_set_n = datos.iloc[train_index]\n",
        "    strat_test_set_n = datos.iloc[test_index]\n",
        "    strat_splits.append([strat_train_set_n, strat_test_set_n])"
      ],
      "metadata": {
        "id": "cF2xH9uoKXDa"
      },
      "id": "cF2xH9uoKXDa",
      "execution_count": 152,
      "outputs": []
    },
    {
      "cell_type": "code",
      "source": [
        "test_set.head()"
      ],
      "metadata": {
        "id": "MU9ex44ahYOs",
        "outputId": "f8eddf12-429a-4602-88af-ee5417b0fb6b",
        "colab": {
          "base_uri": "https://localhost:8080/",
          "height": 250
        }
      },
      "id": "MU9ex44ahYOs",
      "execution_count": 153,
      "outputs": [
        {
          "output_type": "execute_result",
          "data": {
            "text/plain": [
              "       longitud  latitud  edad_promedio_casa  total_espacios  \\\n",
              "20046   -122.38    40.67                10.0          2281.0   \n",
              "3024    -118.37    33.83                35.0          1207.0   \n",
              "15663   -117.24    32.72                39.0          3089.0   \n",
              "20484   -118.44    34.05                18.0          4780.0   \n",
              "9814    -118.44    34.18                33.0          2127.0   \n",
              "\n",
              "       total_habitaciones  poblacion  hogares  ingreso_promedio  \\\n",
              "20046               444.0     1274.0    438.0            2.2120   \n",
              "3024                207.0      601.0    213.0            4.7308   \n",
              "15663               431.0     1175.0    432.0            7.5925   \n",
              "20484              1192.0     1886.0   1036.0            4.4674   \n",
              "9814                414.0     1056.0    391.0            4.3750   \n",
              "\n",
              "       valor_promedio_casa cercania_oceano  \n",
              "20046              65600.0          INLAND  \n",
              "3024              353400.0       <1H OCEAN  \n",
              "15663             466700.0      NEAR OCEAN  \n",
              "20484             500001.0       <1H OCEAN  \n",
              "9814              286100.0       <1H OCEAN  "
            ],
            "text/html": [
              "\n",
              "  <div id=\"df-51de77ed-fb98-4bbc-9731-43634f465691\">\n",
              "    <div class=\"colab-df-container\">\n",
              "      <div>\n",
              "<style scoped>\n",
              "    .dataframe tbody tr th:only-of-type {\n",
              "        vertical-align: middle;\n",
              "    }\n",
              "\n",
              "    .dataframe tbody tr th {\n",
              "        vertical-align: top;\n",
              "    }\n",
              "\n",
              "    .dataframe thead th {\n",
              "        text-align: right;\n",
              "    }\n",
              "</style>\n",
              "<table border=\"1\" class=\"dataframe\">\n",
              "  <thead>\n",
              "    <tr style=\"text-align: right;\">\n",
              "      <th></th>\n",
              "      <th>longitud</th>\n",
              "      <th>latitud</th>\n",
              "      <th>edad_promedio_casa</th>\n",
              "      <th>total_espacios</th>\n",
              "      <th>total_habitaciones</th>\n",
              "      <th>poblacion</th>\n",
              "      <th>hogares</th>\n",
              "      <th>ingreso_promedio</th>\n",
              "      <th>valor_promedio_casa</th>\n",
              "      <th>cercania_oceano</th>\n",
              "    </tr>\n",
              "  </thead>\n",
              "  <tbody>\n",
              "    <tr>\n",
              "      <th>20046</th>\n",
              "      <td>-122.38</td>\n",
              "      <td>40.67</td>\n",
              "      <td>10.0</td>\n",
              "      <td>2281.0</td>\n",
              "      <td>444.0</td>\n",
              "      <td>1274.0</td>\n",
              "      <td>438.0</td>\n",
              "      <td>2.2120</td>\n",
              "      <td>65600.0</td>\n",
              "      <td>INLAND</td>\n",
              "    </tr>\n",
              "    <tr>\n",
              "      <th>3024</th>\n",
              "      <td>-118.37</td>\n",
              "      <td>33.83</td>\n",
              "      <td>35.0</td>\n",
              "      <td>1207.0</td>\n",
              "      <td>207.0</td>\n",
              "      <td>601.0</td>\n",
              "      <td>213.0</td>\n",
              "      <td>4.7308</td>\n",
              "      <td>353400.0</td>\n",
              "      <td>&lt;1H OCEAN</td>\n",
              "    </tr>\n",
              "    <tr>\n",
              "      <th>15663</th>\n",
              "      <td>-117.24</td>\n",
              "      <td>32.72</td>\n",
              "      <td>39.0</td>\n",
              "      <td>3089.0</td>\n",
              "      <td>431.0</td>\n",
              "      <td>1175.0</td>\n",
              "      <td>432.0</td>\n",
              "      <td>7.5925</td>\n",
              "      <td>466700.0</td>\n",
              "      <td>NEAR OCEAN</td>\n",
              "    </tr>\n",
              "    <tr>\n",
              "      <th>20484</th>\n",
              "      <td>-118.44</td>\n",
              "      <td>34.05</td>\n",
              "      <td>18.0</td>\n",
              "      <td>4780.0</td>\n",
              "      <td>1192.0</td>\n",
              "      <td>1886.0</td>\n",
              "      <td>1036.0</td>\n",
              "      <td>4.4674</td>\n",
              "      <td>500001.0</td>\n",
              "      <td>&lt;1H OCEAN</td>\n",
              "    </tr>\n",
              "    <tr>\n",
              "      <th>9814</th>\n",
              "      <td>-118.44</td>\n",
              "      <td>34.18</td>\n",
              "      <td>33.0</td>\n",
              "      <td>2127.0</td>\n",
              "      <td>414.0</td>\n",
              "      <td>1056.0</td>\n",
              "      <td>391.0</td>\n",
              "      <td>4.3750</td>\n",
              "      <td>286100.0</td>\n",
              "      <td>&lt;1H OCEAN</td>\n",
              "    </tr>\n",
              "  </tbody>\n",
              "</table>\n",
              "</div>\n",
              "      <button class=\"colab-df-convert\" onclick=\"convertToInteractive('df-51de77ed-fb98-4bbc-9731-43634f465691')\"\n",
              "              title=\"Convert this dataframe to an interactive table.\"\n",
              "              style=\"display:none;\">\n",
              "        \n",
              "  <svg xmlns=\"http://www.w3.org/2000/svg\" height=\"24px\"viewBox=\"0 0 24 24\"\n",
              "       width=\"24px\">\n",
              "    <path d=\"M0 0h24v24H0V0z\" fill=\"none\"/>\n",
              "    <path d=\"M18.56 5.44l.94 2.06.94-2.06 2.06-.94-2.06-.94-.94-2.06-.94 2.06-2.06.94zm-11 1L8.5 8.5l.94-2.06 2.06-.94-2.06-.94L8.5 2.5l-.94 2.06-2.06.94zm10 10l.94 2.06.94-2.06 2.06-.94-2.06-.94-.94-2.06-.94 2.06-2.06.94z\"/><path d=\"M17.41 7.96l-1.37-1.37c-.4-.4-.92-.59-1.43-.59-.52 0-1.04.2-1.43.59L10.3 9.45l-7.72 7.72c-.78.78-.78 2.05 0 2.83L4 21.41c.39.39.9.59 1.41.59.51 0 1.02-.2 1.41-.59l7.78-7.78 2.81-2.81c.8-.78.8-2.07 0-2.86zM5.41 20L4 18.59l7.72-7.72 1.47 1.35L5.41 20z\"/>\n",
              "  </svg>\n",
              "      </button>\n",
              "      \n",
              "  <style>\n",
              "    .colab-df-container {\n",
              "      display:flex;\n",
              "      flex-wrap:wrap;\n",
              "      gap: 12px;\n",
              "    }\n",
              "\n",
              "    .colab-df-convert {\n",
              "      background-color: #E8F0FE;\n",
              "      border: none;\n",
              "      border-radius: 50%;\n",
              "      cursor: pointer;\n",
              "      display: none;\n",
              "      fill: #1967D2;\n",
              "      height: 32px;\n",
              "      padding: 0 0 0 0;\n",
              "      width: 32px;\n",
              "    }\n",
              "\n",
              "    .colab-df-convert:hover {\n",
              "      background-color: #E2EBFA;\n",
              "      box-shadow: 0px 1px 2px rgba(60, 64, 67, 0.3), 0px 1px 3px 1px rgba(60, 64, 67, 0.15);\n",
              "      fill: #174EA6;\n",
              "    }\n",
              "\n",
              "    [theme=dark] .colab-df-convert {\n",
              "      background-color: #3B4455;\n",
              "      fill: #D2E3FC;\n",
              "    }\n",
              "\n",
              "    [theme=dark] .colab-df-convert:hover {\n",
              "      background-color: #434B5C;\n",
              "      box-shadow: 0px 1px 3px 1px rgba(0, 0, 0, 0.15);\n",
              "      filter: drop-shadow(0px 1px 2px rgba(0, 0, 0, 0.3));\n",
              "      fill: #FFFFFF;\n",
              "    }\n",
              "  </style>\n",
              "\n",
              "      <script>\n",
              "        const buttonEl =\n",
              "          document.querySelector('#df-51de77ed-fb98-4bbc-9731-43634f465691 button.colab-df-convert');\n",
              "        buttonEl.style.display =\n",
              "          google.colab.kernel.accessAllowed ? 'block' : 'none';\n",
              "\n",
              "        async function convertToInteractive(key) {\n",
              "          const element = document.querySelector('#df-51de77ed-fb98-4bbc-9731-43634f465691');\n",
              "          const dataTable =\n",
              "            await google.colab.kernel.invokeFunction('convertToInteractive',\n",
              "                                                     [key], {});\n",
              "          if (!dataTable) return;\n",
              "\n",
              "          const docLinkHtml = 'Like what you see? Visit the ' +\n",
              "            '<a target=\"_blank\" href=https://colab.research.google.com/notebooks/data_table.ipynb>data table notebook</a>'\n",
              "            + ' to learn more about interactive tables.';\n",
              "          element.innerHTML = '';\n",
              "          dataTable['output_type'] = 'display_data';\n",
              "          await google.colab.output.renderOutput(dataTable, element);\n",
              "          const docLink = document.createElement('div');\n",
              "          docLink.innerHTML = docLinkHtml;\n",
              "          element.appendChild(docLink);\n",
              "        }\n",
              "      </script>\n",
              "    </div>\n",
              "  </div>\n",
              "  "
            ]
          },
          "metadata": {},
          "execution_count": 153
        }
      ]
    },
    {
      "cell_type": "code",
      "source": [
        "strat_train_set, strat_test_set = strat_splits[0]"
      ],
      "metadata": {
        "id": "cKwmF-AJPvB4"
      },
      "id": "cKwmF-AJPvB4",
      "execution_count": 154,
      "outputs": []
    },
    {
      "cell_type": "code",
      "source": [
        "strat_train_set, strat_test_set = train_test_split(\n",
        "    datos, test_size=0.2, stratify=datos[\"income_cat\"], random_state=42)"
      ],
      "metadata": {
        "id": "oYtI9qSybn1F"
      },
      "id": "oYtI9qSybn1F",
      "execution_count": 155,
      "outputs": []
    },
    {
      "cell_type": "code",
      "source": [
        "strat_test_set[\"income_cat\"].value_counts() / len(strat_test_set)*100 # stratified"
      ],
      "metadata": {
        "id": "OSXVKzN6R3kO",
        "outputId": "8d654193-f759-4a0e-af11-4b305e919dad",
        "colab": {
          "base_uri": "https://localhost:8080/"
        }
      },
      "id": "OSXVKzN6R3kO",
      "execution_count": 156,
      "outputs": [
        {
          "output_type": "execute_result",
          "data": {
            "text/plain": [
              "3    35.053295\n",
              "2    31.879845\n",
              "4    17.635659\n",
              "5    11.434109\n",
              "1     3.997093\n",
              "Name: income_cat, dtype: float64"
            ]
          },
          "metadata": {},
          "execution_count": 156
        }
      ]
    },
    {
      "cell_type": "code",
      "source": [
        "datos[\"income_cat\"].value_counts() / len(datos)*(100) # Overall"
      ],
      "metadata": {
        "id": "TRakikHOeGxr",
        "outputId": "cffafd35-e2dd-4a07-c05b-19971dd5c74b",
        "colab": {
          "base_uri": "https://localhost:8080/"
        }
      },
      "id": "TRakikHOeGxr",
      "execution_count": 157,
      "outputs": [
        {
          "output_type": "execute_result",
          "data": {
            "text/plain": [
              "3    35.058140\n",
              "2    31.884690\n",
              "4    17.630814\n",
              "5    11.443798\n",
              "1     3.982558\n",
              "Name: income_cat, dtype: float64"
            ]
          },
          "metadata": {},
          "execution_count": 157
        }
      ]
    },
    {
      "cell_type": "code",
      "source": [
        "def income_cat_proportions(data):\n",
        "    return data[\"income_cat\"].value_counts() / len(data)\n",
        "\n",
        "train_set, test_set = train_test_split(datos, test_size=0.2, random_state=42)\n",
        "\n",
        "compare_props = pd.DataFrame({\n",
        "    \"Overall %\": income_cat_proportions(datos),\n",
        "    \"Stratified %\": income_cat_proportions(strat_test_set),\n",
        "    \"Random %\": income_cat_proportions(test_set),}).sort_index()\n",
        "compare_props.index.name = \"Income Category\"\n",
        " "
      ],
      "metadata": {
        "id": "scpGKcsxSLp9"
      },
      "id": "scpGKcsxSLp9",
      "execution_count": 158,
      "outputs": []
    },
    {
      "cell_type": "code",
      "source": [
        "print((compare_props*100).round(2))"
      ],
      "metadata": {
        "id": "F_gD1AeQXlhv",
        "outputId": "796623a8-e478-4fdf-fffa-b17c08a2597c",
        "colab": {
          "base_uri": "https://localhost:8080/"
        }
      },
      "id": "F_gD1AeQXlhv",
      "execution_count": 159,
      "outputs": [
        {
          "output_type": "stream",
          "name": "stdout",
          "text": [
            "                 Overall %  Stratified %  Random %\n",
            "Income Category                                   \n",
            "1                     3.98          4.00      4.24\n",
            "2                    31.88         31.88     30.74\n",
            "3                    35.06         35.05     34.52\n",
            "4                    17.63         17.64     18.41\n",
            "5                    11.44         11.43     12.09\n"
          ]
        }
      ]
    },
    {
      "cell_type": "markdown",
      "source": [
        "Vemos que el procentaje de datos estratificados del conjunto de evaluación o test_set; corresponden, de manera similar, a los porcentajes de los datos en su totalidad en cada categoría."
      ],
      "metadata": {
        "id": "tUeSDjkHZMlW"
      },
      "id": "tUeSDjkHZMlW"
    },
    {
      "cell_type": "code",
      "source": [
        "for set_ in (strat_train_set, strat_test_set):\n",
        "  set_ .drop(\"income_cat\", axis=1, inplace = True)\n",
        "  "
      ],
      "metadata": {
        "id": "mzW6R4FCZ-C8"
      },
      "id": "mzW6R4FCZ-C8",
      "execution_count": 160,
      "outputs": []
    },
    {
      "cell_type": "markdown",
      "source": [
        "Quitamos la categoria \"income cat\" de los datos de entrenamiento y de evaluación."
      ],
      "metadata": {
        "id": "mbBOVcy_fT3A"
      },
      "id": "mbBOVcy_fT3A"
    },
    {
      "cell_type": "code",
      "source": [],
      "metadata": {
        "id": "wwjRP1b4jqb2"
      },
      "id": "wwjRP1b4jqb2",
      "execution_count": 160,
      "outputs": []
    }
  ],
  "metadata": {
    "celltoolbar": "Slideshow",
    "kernelspec": {
      "display_name": "Python 3 (ipykernel)",
      "language": "python",
      "name": "python3"
    },
    "language_info": {
      "codemirror_mode": {
        "name": "ipython",
        "version": 3
      },
      "file_extension": ".py",
      "mimetype": "text/x-python",
      "name": "python",
      "nbconvert_exporter": "python",
      "pygments_lexer": "ipython3",
      "version": "3.9.12"
    },
    "colab": {
      "provenance": [],
      "include_colab_link": true
    }
  },
  "nbformat": 4,
  "nbformat_minor": 5
}