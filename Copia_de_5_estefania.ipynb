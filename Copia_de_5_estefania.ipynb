{
  "cells": [
    {
      "cell_type": "markdown",
      "metadata": {
        "id": "view-in-github",
        "colab_type": "text"
      },
      "source": [
        "<a href=\"https://colab.research.google.com/github/LeCache/LeCache/blob/main/Copia_de_5_estefania.ipynb\" target=\"_parent\"><img src=\"https://colab.research.google.com/assets/colab-badge.svg\" alt=\"Open In Colab\"/></a>"
      ]
    },
    {
      "cell_type": "markdown",
      "id": "94df1e3b",
      "metadata": {
        "id": "94df1e3b"
      },
      "source": [
        "<table align=\"left\">\n",
        "  <td>\n",
        "    <a href=\"https://colab.research.google.com/github/marco-canas/cielo/blob/main/revision_bibloografica/c_2_geron/5_estefania.ipynb\" target=\"_parent\"><img src=\"https://colab.research.google.com/assets/colab-badge.svg\" alt=\"Open In Colab\"/></a>\n",
        "  </td>\n",
        "</table>"
      ]
    },
    {
      "cell_type": "markdown",
      "id": "e73ee2f4",
      "metadata": {
        "id": "e73ee2f4"
      },
      "source": [
        "## [Video de apoyo a la lectura interactiva y experimental de este cuaderno]()  \n",
        "\n",
        "Recuerde que la segunda parte de su exposición debe ser la práctica de implementación o de codificación de los conceptos y metodologías presentadas en la teoría leída. "
      ]
    },
    {
      "cell_type": "markdown",
      "id": "50aa5f1d",
      "metadata": {
        "id": "50aa5f1d"
      },
      "source": [
        "# Chapter 2 Geron\n",
        "\n",
        "Páginas 117 a 130. "
      ]
    },
    {
      "cell_type": "markdown",
      "id": "76561ba4",
      "metadata": {
        "id": "76561ba4"
      },
      "source": [
        "### Temas a presentar\n",
        "\n",
        "* Fine-Tune your model (Afinamiento de modelos con grilla de hiperparámetros)  \n",
        "  * grid search (cuagrícula de búsqueda)  \n",
        "  * Randomized search (Búsqueda aleatoria)  \n",
        "  * Ensemble methods \n",
        "  * Analyze the best model and their errors "
      ]
    },
    {
      "cell_type": "markdown",
      "source": [
        "# Download the Data"
      ],
      "metadata": {
        "id": "2drl_Q7-NvWl"
      },
      "id": "2drl_Q7-NvWl"
    },
    {
      "cell_type": "code",
      "source": [
        "from pathlib import Path\n",
        "import pandas as pd\n",
        "import tarfile\n",
        "import urllib.request\n",
        "\n",
        "def carga_datos():\n",
        "    tarball_path = Path(\"datasets/housing.tgz\")\n",
        "    if not tarball_path.is_file():\n",
        "        Path(\"datasets\").mkdir(parents=True, exist_ok=True)\n",
        "        url = \"https://github.com/ageron/data/raw/main/housing.tgz\"\n",
        "        urllib.request.urlretrieve(url, tarball_path)\n",
        "        with tarfile.open(tarball_path) as housing_tarball:\n",
        "            housing_tarball.extractall(path=\"datasets\")\n",
        "    return pd.read_csv(Path(\"datasets/housing/housing.csv\"))\n",
        "\n",
        "datos = carga_datos()"
      ],
      "metadata": {
        "id": "l9-Nod8ZN5Wv"
      },
      "id": "l9-Nod8ZN5Wv",
      "execution_count": null,
      "outputs": []
    },
    {
      "cell_type": "markdown",
      "source": [
        "- El módulo **pathlib** es un componente importante de la biblioteca estándar de Python que nos permite manipular rutas de sistemas de archivos de forma rápida en cualquier sistema operativo- con módulo *path*.\n",
        "- El módulo **tarfile** proporciona acceso de lectura y escritura a archivos de tar.\n",
        "- El módulo **urllib.request** proporciona una interfaz de programación para usar recursos de Internet identificados por URLs.\n"
      ],
      "metadata": {
        "id": "XLHV5dj8OikN"
      },
      "id": "XLHV5dj8OikN"
    }
  ],
  "metadata": {
    "celltoolbar": "Slideshow",
    "kernelspec": {
      "display_name": "Python 3 (ipykernel)",
      "language": "python",
      "name": "python3"
    },
    "language_info": {
      "codemirror_mode": {
        "name": "ipython",
        "version": 3
      },
      "file_extension": ".py",
      "mimetype": "text/x-python",
      "name": "python",
      "nbconvert_exporter": "python",
      "pygments_lexer": "ipython3",
      "version": "3.9.12"
    },
    "colab": {
      "provenance": [],
      "include_colab_link": true
    }
  },
  "nbformat": 4,
  "nbformat_minor": 5
}