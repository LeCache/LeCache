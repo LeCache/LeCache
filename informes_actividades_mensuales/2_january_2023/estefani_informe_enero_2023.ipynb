{
  "cells": [
    {
      "cell_type": "markdown",
      "id": "f5a5bbfe",
      "metadata": {
        "id": "f5a5bbfe"
      },
      "source": [
        "<table align=\"left\">\n",
        "  <td>\n",
        "    <a href=\"https://colab.research.google.com/github/marco-canas/cielo/blob/main/informes_actividades_mensuales/2_january_2023/estefani_informe_enero_2023.ipynb\" target=\"_parent\"><img src=\"https://colab.research.google.com/assets/colab-badge.svg\" alt=\"Open In Colab\"/></a>\n",
        "  </td>\n",
        "</table>"
      ]
    },
    {
      "cell_type": "markdown",
      "id": "17afa0bd",
      "metadata": {
        "id": "17afa0bd"
      },
      "source": [
        "## Actividades de cualificación como investigador"
      ]
    },
    {
      "cell_type": "markdown",
      "id": "aaed0b40",
      "metadata": {
        "id": "aaed0b40"
      },
      "source": []
    },
    {
      "cell_type": "markdown",
      "id": "fdfc5b06",
      "metadata": {
        "id": "fdfc5b06"
      },
      "source": [
        "## Actividades de divulgación científica (Video articulado al repositorio cielo, apoyo a eventos investigativos, )"
      ]
    },
    {
      "cell_type": "markdown",
      "id": "ebf4133b",
      "metadata": {
        "id": "ebf4133b"
      },
      "source": []
    },
    {
      "cell_type": "markdown",
      "id": "29a0ccd9",
      "metadata": {
        "id": "29a0ccd9"
      },
      "source": [
        "## Actividades de escritura científica"
      ]
    },
    {
      "cell_type": "markdown",
      "id": "96992c14",
      "metadata": {
        "id": "96992c14"
      },
      "source": [
        "### Párrafo de enero de 2023"
      ]
    },
    {
      "cell_type": "markdown",
      "source": [
        "Para este período se realizaron las siguientes actividades relacionadas al aprendizaje y enseñanza de la ciencia de datos:\n",
        "Se culminó con la participación en el evento de investigación y divulgación científica Prexia, con la realización del poster.\n",
        "Se puso en práctica lo observado en el curso de R_project, relacionado con conceptos básicos para la exploración de bases de datos. En el que se destacan funciones importantes como: \n",
        "•\tfilter() para filtrar filas\n",
        "•\tarrange() para organizarlas según criterio\n",
        "•\t mutate() para realizar transformaciones en columnas como cambiar nombres o quitarlas y \n",
        "•\tsummarise () con la que puedes agrupar dentro de una columna por igualdad de argumento que la contiene.\n",
        "Se realizó un corto paso a paso en el que se demuestra el uso de estas funciones con la base de datos de Evaluaciones Agropecuarias Municipales obtenida de la página web Datos Abiertos de Colombia. Colgado en este repositorio y de nombre R_bases.\n"
      ],
      "metadata": {
        "id": "MV0cjvmRYQi-"
      },
      "id": "MV0cjvmRYQi-"
    },
    {
      "cell_type": "markdown",
      "id": "5653e2cf",
      "metadata": {
        "id": "5653e2cf"
      },
      "source": [
        "### Párrafo de febrero de 2023"
      ]
    },
    {
      "cell_type": "code",
      "execution_count": null,
      "id": "d0c9e09d",
      "metadata": {
        "id": "d0c9e09d"
      },
      "outputs": [],
      "source": []
    },
    {
      "cell_type": "markdown",
      "id": "2a584dfe",
      "metadata": {
        "id": "2a584dfe"
      },
      "source": [
        "### Párrafo de marzo de 2023"
      ]
    },
    {
      "cell_type": "code",
      "execution_count": null,
      "id": "23cc8bca",
      "metadata": {
        "id": "23cc8bca"
      },
      "outputs": [],
      "source": []
    },
    {
      "cell_type": "markdown",
      "id": "353cbb66",
      "metadata": {
        "id": "353cbb66"
      },
      "source": [
        "### Párrafo de abril de 2023"
      ]
    },
    {
      "cell_type": "code",
      "execution_count": null,
      "id": "14f9c247",
      "metadata": {
        "id": "14f9c247"
      },
      "outputs": [],
      "source": []
    },
    {
      "cell_type": "markdown",
      "id": "b791ddab",
      "metadata": {
        "id": "b791ddab"
      },
      "source": [
        "### Párrafo de mayo de 2023"
      ]
    },
    {
      "cell_type": "code",
      "execution_count": null,
      "id": "2cce68f7",
      "metadata": {
        "id": "2cce68f7"
      },
      "outputs": [],
      "source": []
    },
    {
      "cell_type": "markdown",
      "id": "1e64ff6d",
      "metadata": {
        "id": "1e64ff6d"
      },
      "source": [
        "### Párrafo de junio de 2023"
      ]
    },
    {
      "cell_type": "code",
      "execution_count": null,
      "id": "6b87c031",
      "metadata": {
        "id": "6b87c031"
      },
      "outputs": [],
      "source": []
    },
    {
      "cell_type": "markdown",
      "id": "fb8ec14c",
      "metadata": {
        "id": "fb8ec14c"
      },
      "source": [
        "### Párrafo de julio de 2023"
      ]
    },
    {
      "cell_type": "code",
      "execution_count": null,
      "id": "79f4e7e6",
      "metadata": {
        "id": "79f4e7e6"
      },
      "outputs": [],
      "source": []
    },
    {
      "cell_type": "markdown",
      "id": "5344adef",
      "metadata": {
        "id": "5344adef"
      },
      "source": [
        "### Párrafo de agosto de 2023"
      ]
    },
    {
      "cell_type": "code",
      "execution_count": null,
      "id": "459c7755",
      "metadata": {
        "id": "459c7755"
      },
      "outputs": [],
      "source": []
    },
    {
      "cell_type": "markdown",
      "id": "1d604490",
      "metadata": {
        "id": "1d604490"
      },
      "source": [
        "### Párrafo de septiembre de 2023"
      ]
    },
    {
      "cell_type": "code",
      "execution_count": null,
      "id": "0c83b6f8",
      "metadata": {
        "id": "0c83b6f8"
      },
      "outputs": [],
      "source": []
    }
  ],
  "metadata": {
    "celltoolbar": "Slideshow",
    "kernelspec": {
      "display_name": "Python 3 (ipykernel)",
      "language": "python",
      "name": "python3"
    },
    "language_info": {
      "codemirror_mode": {
        "name": "ipython",
        "version": 3
      },
      "file_extension": ".py",
      "mimetype": "text/x-python",
      "name": "python",
      "nbconvert_exporter": "python",
      "pygments_lexer": "ipython3",
      "version": "3.9.13"
    },
    "rise": {
      "enable_chalkboard": true,
      "theme": "sky"
    },
    "colab": {
      "provenance": []
    }
  },
  "nbformat": 4,
  "nbformat_minor": 5
}